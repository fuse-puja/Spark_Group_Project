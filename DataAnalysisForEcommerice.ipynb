{
 "cells": [
  {
   "cell_type": "code",
   "execution_count": null,
   "metadata": {},
   "outputs": [],
   "source": [
    "from pyspark.sql import SparkSession\n",
    "\n",
    "spark = SparkSession.builder.appName(\"project\").getOrCreate()"
   ]
  },
  {
   "cell_type": "code",
   "execution_count": null,
   "metadata": {},
   "outputs": [],
   "source": [
    "# Load the Chipotle dataset into a Spark DataFrame\n",
    "customer_data_path = \"./BrazilDataset/olist_customers_dataset.csv\"  # Replace with the actual path\n",
    "order_item_path = \"./BrazilDataset/olist_order_items_dataset.csv\"\n",
    "order_payment_path = \"./BrazilDataset/olist_order_payments_dataset.csv\"\n",
    "order_review_path = './BrazilDataset/olist_order_reviews_dataset.csv'\n",
    "product_path = './BrazilDataset/olist_products_dataset.csv'\n",
    "seller_path = './BrazilDataset/olist_sellers_dataset.csv'\n",
    "geolocation_path = './BrazilDataset/olist_geolocation_dataset.csv'\n",
    "orders_path = './BrazilDataset/olist_orders_dataset.csv'\n",
    "\n",
    "customer_df = spark.read.csv(customer_data_path, header=True, inferSchema=True)\n",
    "order_item_df = spark.read.csv(order_item_path, header=True, inferSchema=True)\n",
    "order_payment_df = spark.read.csv(order_payment_path, header=True, inferSchema=True)\n",
    "order_review_df = spark.read.csv(order_review_path, header=True, inferSchema=True)\n",
    "seller_df = spark.read.csv(seller_path, header=True, inferSchema=True)\n",
    "product_df = spark.read.csv(product_path, header=True, inferSchema=True)\n",
    "geoloacation_df = spark.read.csv(geolocation_path, header=True, inferSchema= True)\n",
    "orders_df = spark.read.csv(orders_path, header=True, inferSchema= True)\n"
   ]
  }
 ],
 "metadata": {
  "language_info": {
   "name": "python"
  },
  "orig_nbformat": 4
 },
 "nbformat": 4,
 "nbformat_minor": 2
}
